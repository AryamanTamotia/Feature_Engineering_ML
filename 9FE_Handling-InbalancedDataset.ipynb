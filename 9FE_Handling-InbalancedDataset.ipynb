{
 "cells": [
  {
   "cell_type": "markdown",
   "id": "5027303b",
   "metadata": {},
   "source": [
    "#### Handling Inbalanced Dataset with Machine Learning"
   ]
  },
  {
   "cell_type": "code",
   "execution_count": null,
   "id": "b3ea9cda",
   "metadata": {},
   "outputs": [],
   "source": [
    "import pandas as pd\n",
    "df=pd.read_csv('creditcard.csv')\n",
    "df.head()"
   ]
  },
  {
   "cell_type": "code",
   "execution_count": 3,
   "id": "819fae0d",
   "metadata": {},
   "outputs": [
    {
     "data": {
      "text/plain": [
       "(284807, 31)"
      ]
     },
     "execution_count": 3,
     "metadata": {},
     "output_type": "execute_result"
    }
   ],
   "source": [
    "## Dependent feature -- Class\n",
    "df.shape"
   ]
  },
  {
   "cell_type": "code",
   "execution_count": 4,
   "id": "3c110b6a",
   "metadata": {},
   "outputs": [
    {
     "data": {
      "text/plain": [
       "Time      0\n",
       "V1        0\n",
       "V2        0\n",
       "V3        0\n",
       "V4        0\n",
       "V5        0\n",
       "V6        0\n",
       "V7        0\n",
       "V8        0\n",
       "V9        0\n",
       "V10       0\n",
       "V11       0\n",
       "V12       0\n",
       "V13       0\n",
       "V14       0\n",
       "V15       0\n",
       "V16       0\n",
       "V17       0\n",
       "V18       0\n",
       "V19       0\n",
       "V20       0\n",
       "V21       0\n",
       "V22       0\n",
       "V23       0\n",
       "V24       0\n",
       "V25       0\n",
       "V26       0\n",
       "V27       0\n",
       "V28       0\n",
       "Amount    0\n",
       "Class     0\n",
       "dtype: int64"
      ]
     },
     "execution_count": 4,
     "metadata": {},
     "output_type": "execute_result"
    }
   ],
   "source": [
    "df.isnull().sum()"
   ]
  },
  {
   "cell_type": "code",
   "execution_count": 5,
   "id": "76845555",
   "metadata": {},
   "outputs": [
    {
     "data": {
      "text/plain": [
       "0    284315\n",
       "1       492\n",
       "Name: Class, dtype: int64"
      ]
     },
     "execution_count": 5,
     "metadata": {},
     "output_type": "execute_result"
    }
   ],
   "source": [
    "df['Class'].value_counts()"
   ]
  },
  {
   "cell_type": "code",
   "execution_count": 6,
   "id": "38b14f6d",
   "metadata": {},
   "outputs": [],
   "source": [
    "## Independent and dependent features\n",
    "X = df.drop('Class',axis=1)\n",
    "y = df.Class"
   ]
  },
  {
   "cell_type": "markdown",
   "id": "a07fa3eb",
   "metadata": {},
   "source": [
    "#### Cross Validation like KFold and Hyperparameter Tuning"
   ]
  },
  {
   "cell_type": "code",
   "execution_count": 7,
   "id": "718908d9",
   "metadata": {},
   "outputs": [],
   "source": [
    "from sklearn.linear_model import LogisticRegression\n",
    "from sklearn.metrics import accuracy_score,confusion_matrix,classification_report\n",
    "from sklearn.model_selection import KFold\n",
    "import numpy as np\n",
    "from sklearn.model_selection import GridSearchCV"
   ]
  },
  {
   "cell_type": "code",
   "execution_count": 8,
   "id": "2720f41f",
   "metadata": {},
   "outputs": [],
   "source": [
    "log_class = LogisticRegression()\n",
    "grid = {'C':10.0**np.arange(-2,3),'penalty':['l1','l2']}\n",
    "cv = KFold(n_splits=5, random_state = None, shuffle=False)"
   ]
  },
  {
   "cell_type": "code",
   "execution_count": 9,
   "id": "be64deaa",
   "metadata": {},
   "outputs": [],
   "source": [
    "from sklearn.model_selection import train_test_split\n",
    "X_train,X_test,y_train,y_test = train_test_split(X,y,train_size=0.7)"
   ]
  },
  {
   "cell_type": "code",
   "execution_count": 10,
   "id": "d05887f7",
   "metadata": {},
   "outputs": [
    {
     "name": "stderr",
     "output_type": "stream",
     "text": [
      "C:\\Users\\bhargavi\\anaconda3\\lib\\site-packages\\sklearn\\model_selection\\_validation.py:372: FitFailedWarning: \n",
      "25 fits failed out of a total of 50.\n",
      "The score on these train-test partitions for these parameters will be set to nan.\n",
      "If these failures are not expected, you can try to debug them by setting error_score='raise'.\n",
      "\n",
      "Below are more details about the failures:\n",
      "--------------------------------------------------------------------------------\n",
      "25 fits failed with the following error:\n",
      "Traceback (most recent call last):\n",
      "  File \"C:\\Users\\bhargavi\\anaconda3\\lib\\site-packages\\sklearn\\model_selection\\_validation.py\", line 680, in _fit_and_score\n",
      "    estimator.fit(X_train, y_train, **fit_params)\n",
      "  File \"C:\\Users\\bhargavi\\anaconda3\\lib\\site-packages\\sklearn\\linear_model\\_logistic.py\", line 1461, in fit\n",
      "    solver = _check_solver(self.solver, self.penalty, self.dual)\n",
      "  File \"C:\\Users\\bhargavi\\anaconda3\\lib\\site-packages\\sklearn\\linear_model\\_logistic.py\", line 447, in _check_solver\n",
      "    raise ValueError(\n",
      "ValueError: Solver lbfgs supports only 'l2' or 'none' penalties, got l1 penalty.\n",
      "\n",
      "  warnings.warn(some_fits_failed_message, FitFailedWarning)\n",
      "C:\\Users\\bhargavi\\anaconda3\\lib\\site-packages\\sklearn\\model_selection\\_search.py:969: UserWarning: One or more of the test scores are non-finite: [       nan 0.83109962        nan 0.84597767        nan 0.84860831\n",
      "        nan 0.85032774        nan 0.8465038 ]\n",
      "  warnings.warn(\n",
      "C:\\Users\\bhargavi\\anaconda3\\lib\\site-packages\\sklearn\\linear_model\\_logistic.py:814: ConvergenceWarning: lbfgs failed to converge (status=1):\n",
      "STOP: TOTAL NO. of ITERATIONS REACHED LIMIT.\n",
      "\n",
      "Increase the number of iterations (max_iter) or scale the data as shown in:\n",
      "    https://scikit-learn.org/stable/modules/preprocessing.html\n",
      "Please also refer to the documentation for alternative solver options:\n",
      "    https://scikit-learn.org/stable/modules/linear_model.html#logistic-regression\n",
      "  n_iter_i = _check_optimize_result(\n"
     ]
    },
    {
     "data": {
      "text/plain": [
       "GridSearchCV(cv=KFold(n_splits=5, random_state=None, shuffle=False),\n",
       "             estimator=LogisticRegression(), n_jobs=-1,\n",
       "             param_grid={'C': array([1.e-02, 1.e-01, 1.e+00, 1.e+01, 1.e+02]),\n",
       "                         'penalty': ['l1', 'l2']},\n",
       "             scoring='f1_macro')"
      ]
     },
     "execution_count": 10,
     "metadata": {},
     "output_type": "execute_result"
    }
   ],
   "source": [
    "clf = GridSearchCV(log_class,grid,cv=cv,n_jobs=-1,scoring='f1_macro')\n",
    "clf.fit(X_train,y_train)\n"
   ]
  },
  {
   "cell_type": "code",
   "execution_count": 11,
   "id": "b5d5e08f",
   "metadata": {},
   "outputs": [
    {
     "name": "stdout",
     "output_type": "stream",
     "text": [
      "[[85237    54]\n",
      " [   31   121]]\n",
      "0.9990051847430451\n",
      "              precision    recall  f1-score   support\n",
      "\n",
      "           0       1.00      1.00      1.00     85291\n",
      "           1       0.69      0.80      0.74       152\n",
      "\n",
      "    accuracy                           1.00     85443\n",
      "   macro avg       0.85      0.90      0.87     85443\n",
      "weighted avg       1.00      1.00      1.00     85443\n",
      "\n"
     ]
    }
   ],
   "source": [
    "y_pred = clf.predict(X_test)\n",
    "print(confusion_matrix(y_test,y_pred))\n",
    "print(accuracy_score(y_test,y_pred))\n",
    "print(classification_report(y_test,y_pred))"
   ]
  },
  {
   "cell_type": "code",
   "execution_count": 12,
   "id": "23ea4134",
   "metadata": {},
   "outputs": [
    {
     "data": {
      "text/plain": [
       "0    199024\n",
       "1       340\n",
       "Name: Class, dtype: int64"
      ]
     },
     "execution_count": 12,
     "metadata": {},
     "output_type": "execute_result"
    }
   ],
   "source": [
    "y_train.value_counts()"
   ]
  },
  {
   "cell_type": "code",
   "execution_count": 13,
   "id": "01a600f5",
   "metadata": {},
   "outputs": [],
   "source": [
    "class_weight = dict({0:1,1:100})"
   ]
  },
  {
   "cell_type": "code",
   "execution_count": 14,
   "id": "8d8ebf89",
   "metadata": {},
   "outputs": [
    {
     "data": {
      "text/plain": [
       "RandomForestClassifier()"
      ]
     },
     "execution_count": 14,
     "metadata": {},
     "output_type": "execute_result"
    }
   ],
   "source": [
    "from sklearn.ensemble import RandomForestClassifier\n",
    "classifier = RandomForestClassifier()\n",
    "classifier.fit(X_train,y_train)"
   ]
  },
  {
   "cell_type": "code",
   "execution_count": 15,
   "id": "45e88793",
   "metadata": {},
   "outputs": [
    {
     "name": "stdout",
     "output_type": "stream",
     "text": [
      "[[85274    17]\n",
      " [   30   122]]\n",
      "0.9994499256814484\n",
      "              precision    recall  f1-score   support\n",
      "\n",
      "           0       1.00      1.00      1.00     85291\n",
      "           1       0.88      0.80      0.84       152\n",
      "\n",
      "    accuracy                           1.00     85443\n",
      "   macro avg       0.94      0.90      0.92     85443\n",
      "weighted avg       1.00      1.00      1.00     85443\n",
      "\n"
     ]
    }
   ],
   "source": [
    "y_pred = classifier.predict(X_test)\n",
    "print(confusion_matrix(y_test,y_pred))\n",
    "print(accuracy_score(y_test,y_pred))\n",
    "print(classification_report(y_test,y_pred))"
   ]
  },
  {
   "cell_type": "code",
   "execution_count": 16,
   "id": "d424c864",
   "metadata": {},
   "outputs": [],
   "source": [
    "#classifier = RandomForestClassifier(class_weight=class_weight)\n",
    "#classifier.fit(X_train,y_train)"
   ]
  },
  {
   "cell_type": "code",
   "execution_count": 17,
   "id": "c403b58e",
   "metadata": {},
   "outputs": [
    {
     "name": "stdout",
     "output_type": "stream",
     "text": [
      "[[85274    17]\n",
      " [   30   122]]\n",
      "0.9994499256814484\n",
      "              precision    recall  f1-score   support\n",
      "\n",
      "           0       1.00      1.00      1.00     85291\n",
      "           1       0.88      0.80      0.84       152\n",
      "\n",
      "    accuracy                           1.00     85443\n",
      "   macro avg       0.94      0.90      0.92     85443\n",
      "weighted avg       1.00      1.00      1.00     85443\n",
      "\n"
     ]
    }
   ],
   "source": [
    "y_pred = classifier.predict(X_test)\n",
    "print(confusion_matrix(y_test,y_pred))\n",
    "print(accuracy_score(y_test,y_pred))\n",
    "print(classification_report(y_test,y_pred))"
   ]
  },
  {
   "cell_type": "markdown",
   "id": "1c77585d",
   "metadata": {},
   "source": [
    "#### Under Sampling\n",
    "* Use when dataset size is small"
   ]
  },
  {
   "cell_type": "code",
   "execution_count": 18,
   "id": "afe56822",
   "metadata": {},
   "outputs": [
    {
     "data": {
      "text/plain": [
       "0    199024\n",
       "1       340\n",
       "Name: Class, dtype: int64"
      ]
     },
     "execution_count": 18,
     "metadata": {},
     "output_type": "execute_result"
    }
   ],
   "source": [
    "y_train.value_counts()"
   ]
  },
  {
   "cell_type": "code",
   "execution_count": 19,
   "id": "27720c0d",
   "metadata": {},
   "outputs": [
    {
     "name": "stderr",
     "output_type": "stream",
     "text": [
      "C:\\Users\\bhargavi\\anaconda3\\lib\\site-packages\\imblearn\\utils\\_validation.py:586: FutureWarning: Pass sampling_strategy=0.8 as keyword args. From version 0.9 passing these as positional arguments will result in an error\n",
      "  warnings.warn(\n"
     ]
    },
    {
     "name": "stdout",
     "output_type": "stream",
     "text": [
      "The number of classes before fitCounter({0: 199024, 1: 340})\n",
      "The number of classes after fitCounter({0: 425, 1: 340})\n"
     ]
    }
   ],
   "source": [
    "from collections import Counter\n",
    "from imblearn.under_sampling import NearMiss\n",
    "ns = NearMiss(0.8)\n",
    "X_train_ns,y_train_ns=ns.fit_resample(X_train,y_train)\n",
    "print(\"The number of classes before fit{}\".format(Counter(y_train)))\n",
    "print(\"The number of classes after fit{}\".format(Counter(y_train_ns)))"
   ]
  },
  {
   "cell_type": "code",
   "execution_count": 16,
   "id": "59ed436a",
   "metadata": {},
   "outputs": [
    {
     "data": {
      "text/html": [
       "<div>\n",
       "<style scoped>\n",
       "    .dataframe tbody tr th:only-of-type {\n",
       "        vertical-align: middle;\n",
       "    }\n",
       "\n",
       "    .dataframe tbody tr th {\n",
       "        vertical-align: top;\n",
       "    }\n",
       "\n",
       "    .dataframe thead th {\n",
       "        text-align: right;\n",
       "    }\n",
       "</style>\n",
       "<table border=\"1\" class=\"dataframe\">\n",
       "  <thead>\n",
       "    <tr style=\"text-align: right;\">\n",
       "      <th></th>\n",
       "      <th>Time</th>\n",
       "      <th>V1</th>\n",
       "      <th>V2</th>\n",
       "      <th>V3</th>\n",
       "      <th>V4</th>\n",
       "      <th>V5</th>\n",
       "      <th>V6</th>\n",
       "      <th>V7</th>\n",
       "      <th>V8</th>\n",
       "      <th>V9</th>\n",
       "      <th>...</th>\n",
       "      <th>V20</th>\n",
       "      <th>V21</th>\n",
       "      <th>V22</th>\n",
       "      <th>V23</th>\n",
       "      <th>V24</th>\n",
       "      <th>V25</th>\n",
       "      <th>V26</th>\n",
       "      <th>V27</th>\n",
       "      <th>V28</th>\n",
       "      <th>Amount</th>\n",
       "    </tr>\n",
       "  </thead>\n",
       "  <tbody>\n",
       "    <tr>\n",
       "      <th>147572</th>\n",
       "      <td>88698.0</td>\n",
       "      <td>2.058949</td>\n",
       "      <td>0.136886</td>\n",
       "      <td>-1.669613</td>\n",
       "      <td>0.434400</td>\n",
       "      <td>0.382913</td>\n",
       "      <td>-0.854899</td>\n",
       "      <td>0.159688</td>\n",
       "      <td>-0.205423</td>\n",
       "      <td>0.516325</td>\n",
       "      <td>...</td>\n",
       "      <td>-0.177671</td>\n",
       "      <td>-0.354725</td>\n",
       "      <td>-0.920221</td>\n",
       "      <td>0.360377</td>\n",
       "      <td>0.573642</td>\n",
       "      <td>-0.292591</td>\n",
       "      <td>0.171593</td>\n",
       "      <td>-0.060751</td>\n",
       "      <td>-0.030449</td>\n",
       "      <td>1.98</td>\n",
       "    </tr>\n",
       "    <tr>\n",
       "      <th>176617</th>\n",
       "      <td>122843.0</td>\n",
       "      <td>0.360336</td>\n",
       "      <td>0.912758</td>\n",
       "      <td>-0.549064</td>\n",
       "      <td>0.949526</td>\n",
       "      <td>0.967822</td>\n",
       "      <td>-0.542551</td>\n",
       "      <td>1.022748</td>\n",
       "      <td>-0.294865</td>\n",
       "      <td>-0.793735</td>\n",
       "      <td>...</td>\n",
       "      <td>0.153243</td>\n",
       "      <td>0.198797</td>\n",
       "      <td>0.748838</td>\n",
       "      <td>-0.255829</td>\n",
       "      <td>0.663539</td>\n",
       "      <td>-0.411170</td>\n",
       "      <td>1.046227</td>\n",
       "      <td>0.145262</td>\n",
       "      <td>0.186936</td>\n",
       "      <td>0.76</td>\n",
       "    </tr>\n",
       "    <tr>\n",
       "      <th>32560</th>\n",
       "      <td>36851.0</td>\n",
       "      <td>-0.562679</td>\n",
       "      <td>0.541107</td>\n",
       "      <td>1.689286</td>\n",
       "      <td>0.399807</td>\n",
       "      <td>0.362725</td>\n",
       "      <td>-0.768328</td>\n",
       "      <td>0.511264</td>\n",
       "      <td>-0.014275</td>\n",
       "      <td>-0.020889</td>\n",
       "      <td>...</td>\n",
       "      <td>-0.080848</td>\n",
       "      <td>-0.140417</td>\n",
       "      <td>-0.357213</td>\n",
       "      <td>-0.031185</td>\n",
       "      <td>0.376766</td>\n",
       "      <td>0.047927</td>\n",
       "      <td>-0.703519</td>\n",
       "      <td>0.058508</td>\n",
       "      <td>0.054311</td>\n",
       "      <td>5.55</td>\n",
       "    </tr>\n",
       "    <tr>\n",
       "      <th>44961</th>\n",
       "      <td>42150.0</td>\n",
       "      <td>-0.431354</td>\n",
       "      <td>1.090529</td>\n",
       "      <td>1.736730</td>\n",
       "      <td>0.506751</td>\n",
       "      <td>-0.102729</td>\n",
       "      <td>-1.027930</td>\n",
       "      <td>0.681786</td>\n",
       "      <td>-0.129837</td>\n",
       "      <td>-0.724023</td>\n",
       "      <td>...</td>\n",
       "      <td>0.079780</td>\n",
       "      <td>-0.177755</td>\n",
       "      <td>-0.553491</td>\n",
       "      <td>-0.028086</td>\n",
       "      <td>0.673502</td>\n",
       "      <td>-0.306897</td>\n",
       "      <td>0.153292</td>\n",
       "      <td>0.072919</td>\n",
       "      <td>0.123958</td>\n",
       "      <td>4.49</td>\n",
       "    </tr>\n",
       "    <tr>\n",
       "      <th>278868</th>\n",
       "      <td>168487.0</td>\n",
       "      <td>1.842403</td>\n",
       "      <td>0.271779</td>\n",
       "      <td>0.091046</td>\n",
       "      <td>3.745000</td>\n",
       "      <td>0.082807</td>\n",
       "      <td>0.845464</td>\n",
       "      <td>-0.502262</td>\n",
       "      <td>0.162633</td>\n",
       "      <td>-0.439373</td>\n",
       "      <td>...</td>\n",
       "      <td>-0.140096</td>\n",
       "      <td>0.244446</td>\n",
       "      <td>0.820950</td>\n",
       "      <td>0.147533</td>\n",
       "      <td>0.621985</td>\n",
       "      <td>-0.131419</td>\n",
       "      <td>0.058352</td>\n",
       "      <td>0.019121</td>\n",
       "      <td>-0.021084</td>\n",
       "      <td>23.44</td>\n",
       "    </tr>\n",
       "    <tr>\n",
       "      <th>...</th>\n",
       "      <td>...</td>\n",
       "      <td>...</td>\n",
       "      <td>...</td>\n",
       "      <td>...</td>\n",
       "      <td>...</td>\n",
       "      <td>...</td>\n",
       "      <td>...</td>\n",
       "      <td>...</td>\n",
       "      <td>...</td>\n",
       "      <td>...</td>\n",
       "      <td>...</td>\n",
       "      <td>...</td>\n",
       "      <td>...</td>\n",
       "      <td>...</td>\n",
       "      <td>...</td>\n",
       "      <td>...</td>\n",
       "      <td>...</td>\n",
       "      <td>...</td>\n",
       "      <td>...</td>\n",
       "      <td>...</td>\n",
       "      <td>...</td>\n",
       "    </tr>\n",
       "    <tr>\n",
       "      <th>171022</th>\n",
       "      <td>120459.0</td>\n",
       "      <td>-1.497281</td>\n",
       "      <td>1.482645</td>\n",
       "      <td>-0.493921</td>\n",
       "      <td>-2.760444</td>\n",
       "      <td>0.464303</td>\n",
       "      <td>-0.557775</td>\n",
       "      <td>0.452783</td>\n",
       "      <td>0.887374</td>\n",
       "      <td>-0.349536</td>\n",
       "      <td>...</td>\n",
       "      <td>-0.130754</td>\n",
       "      <td>-0.202324</td>\n",
       "      <td>-0.769972</td>\n",
       "      <td>-0.029396</td>\n",
       "      <td>0.228976</td>\n",
       "      <td>0.052472</td>\n",
       "      <td>0.359773</td>\n",
       "      <td>0.080192</td>\n",
       "      <td>0.089803</td>\n",
       "      <td>4.00</td>\n",
       "    </tr>\n",
       "    <tr>\n",
       "      <th>13872</th>\n",
       "      <td>24631.0</td>\n",
       "      <td>1.164015</td>\n",
       "      <td>1.378190</td>\n",
       "      <td>-1.434273</td>\n",
       "      <td>1.676561</td>\n",
       "      <td>1.236670</td>\n",
       "      <td>-0.966499</td>\n",
       "      <td>0.565373</td>\n",
       "      <td>-0.233169</td>\n",
       "      <td>0.437633</td>\n",
       "      <td>...</td>\n",
       "      <td>-0.040802</td>\n",
       "      <td>-0.270867</td>\n",
       "      <td>-0.391236</td>\n",
       "      <td>-0.191420</td>\n",
       "      <td>-0.343198</td>\n",
       "      <td>0.762159</td>\n",
       "      <td>-0.323557</td>\n",
       "      <td>0.031666</td>\n",
       "      <td>0.079023</td>\n",
       "      <td>1.79</td>\n",
       "    </tr>\n",
       "    <tr>\n",
       "      <th>42175</th>\n",
       "      <td>40980.0</td>\n",
       "      <td>-1.340619</td>\n",
       "      <td>-1.508734</td>\n",
       "      <td>2.691860</td>\n",
       "      <td>-1.176688</td>\n",
       "      <td>-1.457673</td>\n",
       "      <td>0.761704</td>\n",
       "      <td>0.310423</td>\n",
       "      <td>0.147072</td>\n",
       "      <td>-0.024920</td>\n",
       "      <td>...</td>\n",
       "      <td>0.779889</td>\n",
       "      <td>0.309503</td>\n",
       "      <td>0.636165</td>\n",
       "      <td>0.389629</td>\n",
       "      <td>0.076266</td>\n",
       "      <td>0.468652</td>\n",
       "      <td>-0.208799</td>\n",
       "      <td>-0.175871</td>\n",
       "      <td>-0.131826</td>\n",
       "      <td>300.00</td>\n",
       "    </tr>\n",
       "    <tr>\n",
       "      <th>40862</th>\n",
       "      <td>40432.0</td>\n",
       "      <td>0.706980</td>\n",
       "      <td>-1.159027</td>\n",
       "      <td>0.696449</td>\n",
       "      <td>0.312597</td>\n",
       "      <td>-1.012896</td>\n",
       "      <td>0.400024</td>\n",
       "      <td>-0.348351</td>\n",
       "      <td>0.104590</td>\n",
       "      <td>1.074497</td>\n",
       "      <td>...</td>\n",
       "      <td>0.467611</td>\n",
       "      <td>-0.067820</td>\n",
       "      <td>-0.431506</td>\n",
       "      <td>-0.166413</td>\n",
       "      <td>-0.164330</td>\n",
       "      <td>0.046256</td>\n",
       "      <td>0.964545</td>\n",
       "      <td>-0.060093</td>\n",
       "      <td>0.053009</td>\n",
       "      <td>260.73</td>\n",
       "    </tr>\n",
       "    <tr>\n",
       "      <th>195947</th>\n",
       "      <td>131290.0</td>\n",
       "      <td>1.943048</td>\n",
       "      <td>-0.755161</td>\n",
       "      <td>-1.725988</td>\n",
       "      <td>-0.601928</td>\n",
       "      <td>1.701451</td>\n",
       "      <td>3.920815</td>\n",
       "      <td>-1.248018</td>\n",
       "      <td>1.050422</td>\n",
       "      <td>1.322331</td>\n",
       "      <td>...</td>\n",
       "      <td>-0.122957</td>\n",
       "      <td>0.253112</td>\n",
       "      <td>0.856950</td>\n",
       "      <td>0.113050</td>\n",
       "      <td>0.736812</td>\n",
       "      <td>-0.013732</td>\n",
       "      <td>-0.134489</td>\n",
       "      <td>0.058978</td>\n",
       "      <td>-0.042211</td>\n",
       "      <td>19.95</td>\n",
       "    </tr>\n",
       "  </tbody>\n",
       "</table>\n",
       "<p>199364 rows × 30 columns</p>\n",
       "</div>"
      ],
      "text/plain": [
       "            Time        V1        V2        V3        V4        V5        V6  \\\n",
       "147572   88698.0  2.058949  0.136886 -1.669613  0.434400  0.382913 -0.854899   \n",
       "176617  122843.0  0.360336  0.912758 -0.549064  0.949526  0.967822 -0.542551   \n",
       "32560    36851.0 -0.562679  0.541107  1.689286  0.399807  0.362725 -0.768328   \n",
       "44961    42150.0 -0.431354  1.090529  1.736730  0.506751 -0.102729 -1.027930   \n",
       "278868  168487.0  1.842403  0.271779  0.091046  3.745000  0.082807  0.845464   \n",
       "...          ...       ...       ...       ...       ...       ...       ...   \n",
       "171022  120459.0 -1.497281  1.482645 -0.493921 -2.760444  0.464303 -0.557775   \n",
       "13872    24631.0  1.164015  1.378190 -1.434273  1.676561  1.236670 -0.966499   \n",
       "42175    40980.0 -1.340619 -1.508734  2.691860 -1.176688 -1.457673  0.761704   \n",
       "40862    40432.0  0.706980 -1.159027  0.696449  0.312597 -1.012896  0.400024   \n",
       "195947  131290.0  1.943048 -0.755161 -1.725988 -0.601928  1.701451  3.920815   \n",
       "\n",
       "              V7        V8        V9  ...       V20       V21       V22  \\\n",
       "147572  0.159688 -0.205423  0.516325  ... -0.177671 -0.354725 -0.920221   \n",
       "176617  1.022748 -0.294865 -0.793735  ...  0.153243  0.198797  0.748838   \n",
       "32560   0.511264 -0.014275 -0.020889  ... -0.080848 -0.140417 -0.357213   \n",
       "44961   0.681786 -0.129837 -0.724023  ...  0.079780 -0.177755 -0.553491   \n",
       "278868 -0.502262  0.162633 -0.439373  ... -0.140096  0.244446  0.820950   \n",
       "...          ...       ...       ...  ...       ...       ...       ...   \n",
       "171022  0.452783  0.887374 -0.349536  ... -0.130754 -0.202324 -0.769972   \n",
       "13872   0.565373 -0.233169  0.437633  ... -0.040802 -0.270867 -0.391236   \n",
       "42175   0.310423  0.147072 -0.024920  ...  0.779889  0.309503  0.636165   \n",
       "40862  -0.348351  0.104590  1.074497  ...  0.467611 -0.067820 -0.431506   \n",
       "195947 -1.248018  1.050422  1.322331  ... -0.122957  0.253112  0.856950   \n",
       "\n",
       "             V23       V24       V25       V26       V27       V28  Amount  \n",
       "147572  0.360377  0.573642 -0.292591  0.171593 -0.060751 -0.030449    1.98  \n",
       "176617 -0.255829  0.663539 -0.411170  1.046227  0.145262  0.186936    0.76  \n",
       "32560  -0.031185  0.376766  0.047927 -0.703519  0.058508  0.054311    5.55  \n",
       "44961  -0.028086  0.673502 -0.306897  0.153292  0.072919  0.123958    4.49  \n",
       "278868  0.147533  0.621985 -0.131419  0.058352  0.019121 -0.021084   23.44  \n",
       "...          ...       ...       ...       ...       ...       ...     ...  \n",
       "171022 -0.029396  0.228976  0.052472  0.359773  0.080192  0.089803    4.00  \n",
       "13872  -0.191420 -0.343198  0.762159 -0.323557  0.031666  0.079023    1.79  \n",
       "42175   0.389629  0.076266  0.468652 -0.208799 -0.175871 -0.131826  300.00  \n",
       "40862  -0.166413 -0.164330  0.046256  0.964545 -0.060093  0.053009  260.73  \n",
       "195947  0.113050  0.736812 -0.013732 -0.134489  0.058978 -0.042211   19.95  \n",
       "\n",
       "[199364 rows x 30 columns]"
      ]
     },
     "execution_count": 16,
     "metadata": {},
     "output_type": "execute_result"
    }
   ],
   "source": [
    "X_train"
   ]
  },
  {
   "cell_type": "code",
   "execution_count": 17,
   "id": "b540a3ce",
   "metadata": {},
   "outputs": [
    {
     "data": {
      "text/html": [
       "<div>\n",
       "<style scoped>\n",
       "    .dataframe tbody tr th:only-of-type {\n",
       "        vertical-align: middle;\n",
       "    }\n",
       "\n",
       "    .dataframe tbody tr th {\n",
       "        vertical-align: top;\n",
       "    }\n",
       "\n",
       "    .dataframe thead th {\n",
       "        text-align: right;\n",
       "    }\n",
       "</style>\n",
       "<table border=\"1\" class=\"dataframe\">\n",
       "  <thead>\n",
       "    <tr style=\"text-align: right;\">\n",
       "      <th></th>\n",
       "      <th>Time</th>\n",
       "      <th>V1</th>\n",
       "      <th>V2</th>\n",
       "      <th>V3</th>\n",
       "      <th>V4</th>\n",
       "      <th>V5</th>\n",
       "      <th>V6</th>\n",
       "      <th>V7</th>\n",
       "      <th>V8</th>\n",
       "      <th>V9</th>\n",
       "      <th>...</th>\n",
       "      <th>V20</th>\n",
       "      <th>V21</th>\n",
       "      <th>V22</th>\n",
       "      <th>V23</th>\n",
       "      <th>V24</th>\n",
       "      <th>V25</th>\n",
       "      <th>V26</th>\n",
       "      <th>V27</th>\n",
       "      <th>V28</th>\n",
       "      <th>Amount</th>\n",
       "    </tr>\n",
       "  </thead>\n",
       "  <tbody>\n",
       "    <tr>\n",
       "      <th>7762</th>\n",
       "      <td>10820.0</td>\n",
       "      <td>-1.615325</td>\n",
       "      <td>0.346875</td>\n",
       "      <td>-0.147872</td>\n",
       "      <td>-1.089688</td>\n",
       "      <td>-4.917660</td>\n",
       "      <td>2.278146</td>\n",
       "      <td>6.988377</td>\n",
       "      <td>-2.104665</td>\n",
       "      <td>2.023255</td>\n",
       "      <td>...</td>\n",
       "      <td>-0.380179</td>\n",
       "      <td>-1.111764</td>\n",
       "      <td>-0.562018</td>\n",
       "      <td>-0.215164</td>\n",
       "      <td>0.446790</td>\n",
       "      <td>-0.245641</td>\n",
       "      <td>0.570353</td>\n",
       "      <td>0.794068</td>\n",
       "      <td>-0.897788</td>\n",
       "      <td>1228.99</td>\n",
       "    </tr>\n",
       "    <tr>\n",
       "      <th>284080</th>\n",
       "      <td>172137.0</td>\n",
       "      <td>-3.500417</td>\n",
       "      <td>3.444865</td>\n",
       "      <td>-3.368813</td>\n",
       "      <td>-2.425066</td>\n",
       "      <td>2.376199</td>\n",
       "      <td>2.949492</td>\n",
       "      <td>0.225066</td>\n",
       "      <td>1.087063</td>\n",
       "      <td>2.889967</td>\n",
       "      <td>...</td>\n",
       "      <td>2.086398</td>\n",
       "      <td>-0.821628</td>\n",
       "      <td>-1.256698</td>\n",
       "      <td>0.311346</td>\n",
       "      <td>0.527536</td>\n",
       "      <td>0.411387</td>\n",
       "      <td>0.235665</td>\n",
       "      <td>1.872413</td>\n",
       "      <td>1.174562</td>\n",
       "      <td>4.46</td>\n",
       "    </tr>\n",
       "    <tr>\n",
       "      <th>165788</th>\n",
       "      <td>117665.0</td>\n",
       "      <td>-0.666631</td>\n",
       "      <td>-0.505543</td>\n",
       "      <td>-0.621111</td>\n",
       "      <td>0.113665</td>\n",
       "      <td>2.735397</td>\n",
       "      <td>3.980027</td>\n",
       "      <td>-0.492548</td>\n",
       "      <td>1.000795</td>\n",
       "      <td>0.081973</td>\n",
       "      <td>...</td>\n",
       "      <td>-0.138567</td>\n",
       "      <td>0.362108</td>\n",
       "      <td>1.173114</td>\n",
       "      <td>0.027984</td>\n",
       "      <td>0.729788</td>\n",
       "      <td>-1.269114</td>\n",
       "      <td>-0.572840</td>\n",
       "      <td>0.426121</td>\n",
       "      <td>0.206397</td>\n",
       "      <td>134.40</td>\n",
       "    </tr>\n",
       "    <tr>\n",
       "      <th>233924</th>\n",
       "      <td>147755.0</td>\n",
       "      <td>-0.626183</td>\n",
       "      <td>0.752950</td>\n",
       "      <td>1.972549</td>\n",
       "      <td>4.329498</td>\n",
       "      <td>1.597951</td>\n",
       "      <td>2.061596</td>\n",
       "      <td>0.195604</td>\n",
       "      <td>0.220830</td>\n",
       "      <td>-1.806989</td>\n",
       "      <td>...</td>\n",
       "      <td>0.603677</td>\n",
       "      <td>0.093246</td>\n",
       "      <td>0.587858</td>\n",
       "      <td>-0.495088</td>\n",
       "      <td>-0.066291</td>\n",
       "      <td>0.680079</td>\n",
       "      <td>0.677596</td>\n",
       "      <td>-0.075921</td>\n",
       "      <td>-0.137966</td>\n",
       "      <td>28.21</td>\n",
       "    </tr>\n",
       "    <tr>\n",
       "      <th>195260</th>\n",
       "      <td>130971.0</td>\n",
       "      <td>-1.396430</td>\n",
       "      <td>-0.068552</td>\n",
       "      <td>3.802986</td>\n",
       "      <td>4.941939</td>\n",
       "      <td>-0.083887</td>\n",
       "      <td>1.780350</td>\n",
       "      <td>-0.716438</td>\n",
       "      <td>0.333717</td>\n",
       "      <td>0.361013</td>\n",
       "      <td>...</td>\n",
       "      <td>0.433715</td>\n",
       "      <td>-0.151459</td>\n",
       "      <td>0.838026</td>\n",
       "      <td>0.353850</td>\n",
       "      <td>-0.074783</td>\n",
       "      <td>0.339237</td>\n",
       "      <td>0.667656</td>\n",
       "      <td>0.342663</td>\n",
       "      <td>-0.309941</td>\n",
       "      <td>3.79</td>\n",
       "    </tr>\n",
       "    <tr>\n",
       "      <th>...</th>\n",
       "      <td>...</td>\n",
       "      <td>...</td>\n",
       "      <td>...</td>\n",
       "      <td>...</td>\n",
       "      <td>...</td>\n",
       "      <td>...</td>\n",
       "      <td>...</td>\n",
       "      <td>...</td>\n",
       "      <td>...</td>\n",
       "      <td>...</td>\n",
       "      <td>...</td>\n",
       "      <td>...</td>\n",
       "      <td>...</td>\n",
       "      <td>...</td>\n",
       "      <td>...</td>\n",
       "      <td>...</td>\n",
       "      <td>...</td>\n",
       "      <td>...</td>\n",
       "      <td>...</td>\n",
       "      <td>...</td>\n",
       "      <td>...</td>\n",
       "    </tr>\n",
       "    <tr>\n",
       "      <th>89623</th>\n",
       "      <td>62652.0</td>\n",
       "      <td>-0.781636</td>\n",
       "      <td>0.759226</td>\n",
       "      <td>-0.319500</td>\n",
       "      <td>-2.482960</td>\n",
       "      <td>2.151210</td>\n",
       "      <td>3.132337</td>\n",
       "      <td>-0.056585</td>\n",
       "      <td>0.972742</td>\n",
       "      <td>0.356773</td>\n",
       "      <td>...</td>\n",
       "      <td>0.379044</td>\n",
       "      <td>-0.223842</td>\n",
       "      <td>-0.610046</td>\n",
       "      <td>-0.041744</td>\n",
       "      <td>1.024452</td>\n",
       "      <td>0.007151</td>\n",
       "      <td>0.747982</td>\n",
       "      <td>0.393802</td>\n",
       "      <td>0.186234</td>\n",
       "      <td>9.99</td>\n",
       "    </tr>\n",
       "    <tr>\n",
       "      <th>104282</th>\n",
       "      <td>68997.0</td>\n",
       "      <td>-1.097229</td>\n",
       "      <td>1.088926</td>\n",
       "      <td>1.627556</td>\n",
       "      <td>1.042294</td>\n",
       "      <td>-0.885308</td>\n",
       "      <td>0.397729</td>\n",
       "      <td>0.289859</td>\n",
       "      <td>0.083596</td>\n",
       "      <td>0.201596</td>\n",
       "      <td>...</td>\n",
       "      <td>-0.146965</td>\n",
       "      <td>0.245679</td>\n",
       "      <td>0.926105</td>\n",
       "      <td>-0.192013</td>\n",
       "      <td>0.090988</td>\n",
       "      <td>-0.371508</td>\n",
       "      <td>-0.296968</td>\n",
       "      <td>-0.537871</td>\n",
       "      <td>-0.118014</td>\n",
       "      <td>95.00</td>\n",
       "    </tr>\n",
       "    <tr>\n",
       "      <th>174712</th>\n",
       "      <td>122034.0</td>\n",
       "      <td>2.021069</td>\n",
       "      <td>0.161557</td>\n",
       "      <td>-1.589579</td>\n",
       "      <td>0.338791</td>\n",
       "      <td>0.439508</td>\n",
       "      <td>-0.648810</td>\n",
       "      <td>0.128491</td>\n",
       "      <td>-0.137285</td>\n",
       "      <td>0.125513</td>\n",
       "      <td>...</td>\n",
       "      <td>-0.112075</td>\n",
       "      <td>-0.293840</td>\n",
       "      <td>-0.745270</td>\n",
       "      <td>0.343675</td>\n",
       "      <td>0.687123</td>\n",
       "      <td>-0.291434</td>\n",
       "      <td>0.140543</td>\n",
       "      <td>-0.061957</td>\n",
       "      <td>-0.037519</td>\n",
       "      <td>0.89</td>\n",
       "    </tr>\n",
       "    <tr>\n",
       "      <th>43880</th>\n",
       "      <td>41688.0</td>\n",
       "      <td>1.015201</td>\n",
       "      <td>-1.467653</td>\n",
       "      <td>-0.460923</td>\n",
       "      <td>-1.833699</td>\n",
       "      <td>-1.184746</td>\n",
       "      <td>-0.962527</td>\n",
       "      <td>-0.090618</td>\n",
       "      <td>-0.226766</td>\n",
       "      <td>0.377736</td>\n",
       "      <td>...</td>\n",
       "      <td>-0.210887</td>\n",
       "      <td>-0.268775</td>\n",
       "      <td>-0.537553</td>\n",
       "      <td>-0.218859</td>\n",
       "      <td>0.083429</td>\n",
       "      <td>0.520227</td>\n",
       "      <td>0.109444</td>\n",
       "      <td>-0.017068</td>\n",
       "      <td>0.035755</td>\n",
       "      <td>207.11</td>\n",
       "    </tr>\n",
       "    <tr>\n",
       "      <th>44359</th>\n",
       "      <td>41914.0</td>\n",
       "      <td>1.105235</td>\n",
       "      <td>-0.120391</td>\n",
       "      <td>1.244650</td>\n",
       "      <td>1.299262</td>\n",
       "      <td>-0.839055</td>\n",
       "      <td>0.259667</td>\n",
       "      <td>-0.667497</td>\n",
       "      <td>0.256307</td>\n",
       "      <td>0.959852</td>\n",
       "      <td>...</td>\n",
       "      <td>-0.191987</td>\n",
       "      <td>-0.038981</td>\n",
       "      <td>0.100866</td>\n",
       "      <td>0.029173</td>\n",
       "      <td>0.071614</td>\n",
       "      <td>0.325215</td>\n",
       "      <td>-0.378177</td>\n",
       "      <td>0.085434</td>\n",
       "      <td>0.034276</td>\n",
       "      <td>11.50</td>\n",
       "    </tr>\n",
       "  </tbody>\n",
       "</table>\n",
       "<p>85443 rows × 30 columns</p>\n",
       "</div>"
      ],
      "text/plain": [
       "            Time        V1        V2        V3        V4        V5        V6  \\\n",
       "7762     10820.0 -1.615325  0.346875 -0.147872 -1.089688 -4.917660  2.278146   \n",
       "284080  172137.0 -3.500417  3.444865 -3.368813 -2.425066  2.376199  2.949492   \n",
       "165788  117665.0 -0.666631 -0.505543 -0.621111  0.113665  2.735397  3.980027   \n",
       "233924  147755.0 -0.626183  0.752950  1.972549  4.329498  1.597951  2.061596   \n",
       "195260  130971.0 -1.396430 -0.068552  3.802986  4.941939 -0.083887  1.780350   \n",
       "...          ...       ...       ...       ...       ...       ...       ...   \n",
       "89623    62652.0 -0.781636  0.759226 -0.319500 -2.482960  2.151210  3.132337   \n",
       "104282   68997.0 -1.097229  1.088926  1.627556  1.042294 -0.885308  0.397729   \n",
       "174712  122034.0  2.021069  0.161557 -1.589579  0.338791  0.439508 -0.648810   \n",
       "43880    41688.0  1.015201 -1.467653 -0.460923 -1.833699 -1.184746 -0.962527   \n",
       "44359    41914.0  1.105235 -0.120391  1.244650  1.299262 -0.839055  0.259667   \n",
       "\n",
       "              V7        V8        V9  ...       V20       V21       V22  \\\n",
       "7762    6.988377 -2.104665  2.023255  ... -0.380179 -1.111764 -0.562018   \n",
       "284080  0.225066  1.087063  2.889967  ...  2.086398 -0.821628 -1.256698   \n",
       "165788 -0.492548  1.000795  0.081973  ... -0.138567  0.362108  1.173114   \n",
       "233924  0.195604  0.220830 -1.806989  ...  0.603677  0.093246  0.587858   \n",
       "195260 -0.716438  0.333717  0.361013  ...  0.433715 -0.151459  0.838026   \n",
       "...          ...       ...       ...  ...       ...       ...       ...   \n",
       "89623  -0.056585  0.972742  0.356773  ...  0.379044 -0.223842 -0.610046   \n",
       "104282  0.289859  0.083596  0.201596  ... -0.146965  0.245679  0.926105   \n",
       "174712  0.128491 -0.137285  0.125513  ... -0.112075 -0.293840 -0.745270   \n",
       "43880  -0.090618 -0.226766  0.377736  ... -0.210887 -0.268775 -0.537553   \n",
       "44359  -0.667497  0.256307  0.959852  ... -0.191987 -0.038981  0.100866   \n",
       "\n",
       "             V23       V24       V25       V26       V27       V28   Amount  \n",
       "7762   -0.215164  0.446790 -0.245641  0.570353  0.794068 -0.897788  1228.99  \n",
       "284080  0.311346  0.527536  0.411387  0.235665  1.872413  1.174562     4.46  \n",
       "165788  0.027984  0.729788 -1.269114 -0.572840  0.426121  0.206397   134.40  \n",
       "233924 -0.495088 -0.066291  0.680079  0.677596 -0.075921 -0.137966    28.21  \n",
       "195260  0.353850 -0.074783  0.339237  0.667656  0.342663 -0.309941     3.79  \n",
       "...          ...       ...       ...       ...       ...       ...      ...  \n",
       "89623  -0.041744  1.024452  0.007151  0.747982  0.393802  0.186234     9.99  \n",
       "104282 -0.192013  0.090988 -0.371508 -0.296968 -0.537871 -0.118014    95.00  \n",
       "174712  0.343675  0.687123 -0.291434  0.140543 -0.061957 -0.037519     0.89  \n",
       "43880  -0.218859  0.083429  0.520227  0.109444 -0.017068  0.035755   207.11  \n",
       "44359   0.029173  0.071614  0.325215 -0.378177  0.085434  0.034276    11.50  \n",
       "\n",
       "[85443 rows x 30 columns]"
      ]
     },
     "execution_count": 17,
     "metadata": {},
     "output_type": "execute_result"
    }
   ],
   "source": [
    "X_test"
   ]
  },
  {
   "cell_type": "code",
   "execution_count": 18,
   "id": "e179f434",
   "metadata": {},
   "outputs": [
    {
     "data": {
      "text/plain": [
       "RandomForestClassifier()"
      ]
     },
     "execution_count": 18,
     "metadata": {},
     "output_type": "execute_result"
    }
   ],
   "source": [
    "from sklearn.ensemble import RandomForestClassifier\n",
    "classifier = RandomForestClassifier()\n",
    "classifier.fit(X_train_ns,y_train_ns)"
   ]
  },
  {
   "cell_type": "code",
   "execution_count": 19,
   "id": "a6af6904",
   "metadata": {},
   "outputs": [
    {
     "name": "stdout",
     "output_type": "stream",
     "text": [
      "[[68212 17094]\n",
      " [    6   131]]\n",
      "0.799866577718479\n",
      "              precision    recall  f1-score   support\n",
      "\n",
      "           0       1.00      0.80      0.89     85306\n",
      "           1       0.01      0.96      0.02       137\n",
      "\n",
      "    accuracy                           0.80     85443\n",
      "   macro avg       0.50      0.88      0.45     85443\n",
      "weighted avg       1.00      0.80      0.89     85443\n",
      "\n"
     ]
    }
   ],
   "source": [
    "y_pred = classifier.predict(X_test)\n",
    "print(confusion_matrix(y_test,y_pred))\n",
    "print(accuracy_score(y_test,y_pred))\n",
    "print(classification_report(y_test,y_pred))"
   ]
  },
  {
   "cell_type": "markdown",
   "id": "bbfee8c2",
   "metadata": {},
   "source": [
    "#### Over Sampling"
   ]
  },
  {
   "cell_type": "code",
   "execution_count": 19,
   "id": "c6d86bcc",
   "metadata": {},
   "outputs": [],
   "source": [
    "from imblearn.over_sampling import RandomOverSampler\n",
    "from collections import Counter"
   ]
  },
  {
   "cell_type": "code",
   "execution_count": 21,
   "id": "3a05a3c9",
   "metadata": {},
   "outputs": [
    {
     "name": "stderr",
     "output_type": "stream",
     "text": [
      "C:\\Users\\bhargavi\\anaconda3\\lib\\site-packages\\imblearn\\utils\\_validation.py:586: FutureWarning: Pass sampling_strategy=0.5 as keyword args. From version 0.9 passing these as positional arguments will result in an error\n",
      "  warnings.warn(\n"
     ]
    },
    {
     "name": "stdout",
     "output_type": "stream",
     "text": [
      "The number of classes before fit() Counter({0: 199009, 1: 355})\n",
      "The number of classes after fit() Counter({0: 199009, 1: 99504})\n"
     ]
    }
   ],
   "source": [
    "os = RandomOverSampler(0.5)\n",
    "X_train_ns,y_train_ns=os.fit_resample(X_train,y_train)\n",
    "print(\"The number of classes before fit()\",Counter(y_train))\n",
    "print(\"The number of classes after fit()\",Counter(y_train_ns))"
   ]
  },
  {
   "cell_type": "code",
   "execution_count": 22,
   "id": "96189237",
   "metadata": {},
   "outputs": [
    {
     "data": {
      "text/plain": [
       "RandomForestClassifier()"
      ]
     },
     "execution_count": 22,
     "metadata": {},
     "output_type": "execute_result"
    }
   ],
   "source": [
    "from sklearn.ensemble import RandomForestClassifier\n",
    "classifier = RandomForestClassifier()\n",
    "classifier.fit(X_train_ns,y_train_ns)"
   ]
  },
  {
   "cell_type": "code",
   "execution_count": 23,
   "id": "144b79b1",
   "metadata": {},
   "outputs": [
    {
     "name": "stdout",
     "output_type": "stream",
     "text": [
      "[[85296    10]\n",
      " [   23   114]]\n",
      "0.9996137776061234\n",
      "              precision    recall  f1-score   support\n",
      "\n",
      "           0       1.00      1.00      1.00     85306\n",
      "           1       0.92      0.83      0.87       137\n",
      "\n",
      "    accuracy                           1.00     85443\n",
      "   macro avg       0.96      0.92      0.94     85443\n",
      "weighted avg       1.00      1.00      1.00     85443\n",
      "\n"
     ]
    }
   ],
   "source": [
    "y_pred = classifier.predict(X_test)\n",
    "print(confusion_matrix(y_test,y_pred))\n",
    "print(accuracy_score(y_test,y_pred))\n",
    "print(classification_report(y_test,y_pred))"
   ]
  },
  {
   "cell_type": "markdown",
   "id": "4584404e",
   "metadata": {},
   "source": [
    " #### SMOTETomek"
   ]
  },
  {
   "cell_type": "code",
   "execution_count": 20,
   "id": "627b2959",
   "metadata": {},
   "outputs": [],
   "source": [
    "from imblearn.combine import SMOTETomek"
   ]
  },
  {
   "cell_type": "code",
   "execution_count": null,
   "id": "453020c5",
   "metadata": {},
   "outputs": [
    {
     "name": "stderr",
     "output_type": "stream",
     "text": [
      "C:\\Users\\bhargavi\\anaconda3\\lib\\site-packages\\imblearn\\utils\\_validation.py:586: FutureWarning: Pass sampling_strategy=0.5 as keyword args. From version 0.9 passing these as positional arguments will result in an error\n",
      "  warnings.warn(\n"
     ]
    }
   ],
   "source": [
    "os = SMOTETomek(0.5)\n",
    "X_train_ns,y_train_ns=os.fit_resample(X_train,y_train)\n",
    "print(\"The number of classes before fit()\",Counter(y_train))\n",
    "print(\"The number of classes after fit()\",Counter(y_train_ns))"
   ]
  },
  {
   "cell_type": "code",
   "execution_count": null,
   "id": "44fd5681",
   "metadata": {},
   "outputs": [],
   "source": [
    "from sklearn.ensemble import RandomForestClassifier\n",
    "classifier = RandomForestClassifier()\n",
    "classifier.fit(X_train_ns,y_train_ns)"
   ]
  },
  {
   "cell_type": "code",
   "execution_count": null,
   "id": "b8611007",
   "metadata": {},
   "outputs": [],
   "source": [
    "y_pred = classifier.predict(X_test)\n",
    "print(confusion_matrix(y_test,y_pred))\n",
    "print(accuracy_score(y_test,y_pred))\n",
    "print(classification_report(y_test,y_pred))"
   ]
  },
  {
   "cell_type": "code",
   "execution_count": null,
   "id": "4273b056",
   "metadata": {},
   "outputs": [],
   "source": []
  }
 ],
 "metadata": {
  "kernelspec": {
   "display_name": "Python 3 (ipykernel)",
   "language": "python",
   "name": "python3"
  },
  "language_info": {
   "codemirror_mode": {
    "name": "ipython",
    "version": 3
   },
   "file_extension": ".py",
   "mimetype": "text/x-python",
   "name": "python",
   "nbconvert_exporter": "python",
   "pygments_lexer": "ipython3",
   "version": "3.9.7"
  }
 },
 "nbformat": 4,
 "nbformat_minor": 5
}
